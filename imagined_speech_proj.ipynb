{
  "nbformat": 4,
  "nbformat_minor": 0,
  "metadata": {
    "colab": {
      "provenance": [],
      "toc_visible": true,
      "include_colab_link": true
    },
    "kernelspec": {
      "name": "python3",
      "display_name": "Python 3"
    },
    "language_info": {
      "name": "python"
    }
  },
  "cells": [
    {
      "cell_type": "markdown",
      "metadata": {
        "id": "view-in-github",
        "colab_type": "text"
      },
      "source": [
        "<a href=\"https://colab.research.google.com/github/TheeArghya/ImaginedSpeech/blob/main/imagined_speech_proj.ipynb\" target=\"_parent\"><img src=\"https://colab.research.google.com/assets/colab-badge.svg\" alt=\"Open In Colab\"/></a>"
      ]
    },
    {
      "cell_type": "markdown",
      "source": [
        "# Creation of Model using CNN"
      ],
      "metadata": {
        "id": "lesQLzxIzbEp"
      }
    },
    {
      "cell_type": "code",
      "source": [
        "import tensorflow as tf\n",
        "from tensorflow.keras import layers,models\n",
        "\n",
        "\n",
        "input_c1=layers.Input(shape=(512,6,1),name=\"input_channel_1\")\n",
        "model=models.Sequential()\n",
        "\n",
        "#Rest of the model architecture\n",
        "#adding first Conv2D layer\n",
        "model.add(layers.Conv2D(40,(10,1),activation='relu',input_shape=(512,6,1)))\n",
        "\n",
        "#adding second conv2D layer\n",
        "model.add(layers.Conv2D(40,(1,6),activation='relu'))\n",
        "\n",
        "#adding batch normaliation\n",
        "model.add(layers.BatchNormalization())\n",
        "\n",
        "#adding activation\n",
        "model.add(layers.Activation('relu'))\n",
        "\n",
        "#starting next block-> Conv2D layer\n",
        "model.add(layers.Conv2D(100,(5,1),activation='relu'))\n",
        "\n",
        "#adding batch normaliation\n",
        "model.add(layers.BatchNormalization())\n",
        "\n",
        "#adding activation\n",
        "model.add(layers.Activation('relu'))\n",
        "\n",
        "#adding pooling\n",
        "model.add(layers.MaxPooling2D(pool_size=(10,1)))\n",
        "\n",
        "#adding a dropout layer\n",
        "model.add(layers.Dropout(0.2))\n",
        "\n",
        "#adding conv2D layer\n",
        "model.add(layers.Conv2D(200,(3,1),activation='relu'))\n",
        "\n",
        "#adding batch normaliation\n",
        "model.add(layers.BatchNormalization())\n",
        "\n",
        "#adding activation\n",
        "model.add(layers.Activation('relu'))\n",
        "\n",
        "#adding pooling\n",
        "model.add(layers.MaxPooling2D(pool_size=(10,1)))\n",
        "\n",
        "#adding a dropout layer\n",
        "model.add(layers.Dropout(0.2))\n",
        "\n",
        "#adding flatten\n",
        "model.add(layers.Flatten())\n",
        "\n",
        "#adding dense layer\n",
        "model.add(layers.Dense(5,activation='softmax'))\n",
        "\n",
        "#compiling the model\n",
        "model.compile(loss='categorical_crossentropy',optimizer=tf.keras.optimizers.Adam(),metrics=['accuracy'])\n",
        "\n"
      ],
      "metadata": {
        "id": "bR4ZJ4XPzrZb"
      },
      "execution_count": null,
      "outputs": []
    },
    {
      "cell_type": "markdown",
      "source": [
        "# Summary of Model"
      ],
      "metadata": {
        "id": "He5TT-VEXES2"
      }
    },
    {
      "cell_type": "code",
      "source": [
        "model.summary()"
      ],
      "metadata": {
        "colab": {
          "base_uri": "https://localhost:8080/"
        },
        "id": "MNlFZi2zXMb3",
        "outputId": "51bc8232-0d1c-49b6-ebff-14f04ccaf68c"
      },
      "execution_count": null,
      "outputs": [
        {
          "output_type": "stream",
          "name": "stdout",
          "text": [
            "Model: \"sequential_1\"\n",
            "_________________________________________________________________\n",
            " Layer (type)                Output Shape              Param #   \n",
            "=================================================================\n",
            " conv2d_4 (Conv2D)           (None, 503, 6, 40)        440       \n",
            "                                                                 \n",
            " conv2d_5 (Conv2D)           (None, 503, 1, 40)        9640      \n",
            "                                                                 \n",
            " batch_normalization_3 (Bat  (None, 503, 1, 40)        160       \n",
            " chNormalization)                                                \n",
            "                                                                 \n",
            " activation_3 (Activation)   (None, 503, 1, 40)        0         \n",
            "                                                                 \n",
            " conv2d_6 (Conv2D)           (None, 499, 1, 100)       20100     \n",
            "                                                                 \n",
            " batch_normalization_4 (Bat  (None, 499, 1, 100)       400       \n",
            " chNormalization)                                                \n",
            "                                                                 \n",
            " activation_4 (Activation)   (None, 499, 1, 100)       0         \n",
            "                                                                 \n",
            " max_pooling2d_2 (MaxPoolin  (None, 49, 1, 100)        0         \n",
            " g2D)                                                            \n",
            "                                                                 \n",
            " dropout_2 (Dropout)         (None, 49, 1, 100)        0         \n",
            "                                                                 \n",
            " conv2d_7 (Conv2D)           (None, 47, 1, 200)        60200     \n",
            "                                                                 \n",
            " batch_normalization_5 (Bat  (None, 47, 1, 200)        800       \n",
            " chNormalization)                                                \n",
            "                                                                 \n",
            " activation_5 (Activation)   (None, 47, 1, 200)        0         \n",
            "                                                                 \n",
            " max_pooling2d_3 (MaxPoolin  (None, 4, 1, 200)         0         \n",
            " g2D)                                                            \n",
            "                                                                 \n",
            " dropout_3 (Dropout)         (None, 4, 1, 200)         0         \n",
            "                                                                 \n",
            " flatten_1 (Flatten)         (None, 800)               0         \n",
            "                                                                 \n",
            " dense_1 (Dense)             (None, 5)                 4005      \n",
            "                                                                 \n",
            "=================================================================\n",
            "Total params: 95745 (374.00 KB)\n",
            "Trainable params: 95065 (371.35 KB)\n",
            "Non-trainable params: 680 (2.66 KB)\n",
            "_________________________________________________________________\n"
          ]
        }
      ]
    },
    {
      "cell_type": "markdown",
      "source": [
        "# Generating Dummy Dataset"
      ],
      "metadata": {
        "id": "mWrT4asPtHqv"
      }
    },
    {
      "cell_type": "code",
      "execution_count": null,
      "metadata": {
        "id": "H1PT5ighsZNi",
        "colab": {
          "base_uri": "https://localhost:8080/"
        },
        "outputId": "dbc7aa7a-0885-48f7-a38f-b9d2e66a169b"
      },
      "outputs": [
        {
          "output_type": "stream",
          "name": "stdout",
          "text": [
            "Input shape:  (400, 512, 6, 1)\n",
            "Labels shape:  (400,)\n"
          ]
        }
      ],
      "source": [
        "import numpy as np\n",
        "from tensorflow.keras.utils import to_categorical\n",
        "#define numb of samples and input shape\n",
        "num_samples=400\n",
        "input_shape=(num_samples,512,6,1)\n",
        "\n",
        "#generation of random synthetic data for the input\n",
        "syn_data=np.random.rand(*input_shape)\n",
        "\n",
        "#generation of random labels for classification(for now 5 classes)\n",
        "num_class=5\n",
        "syn_label=np.random.randint(0,num_class,size=(num_samples,))\n",
        "\n",
        "#one-hot encode\n",
        "syn_label_one_hot=to_categorical(syn_label,num_class)\n",
        "\n",
        "print(\"Input shape: \",syn_data.shape)\n",
        "print(\"Labels shape: \",syn_label.shape)"
      ]
    },
    {
      "cell_type": "markdown",
      "source": [
        "# Fitting the model with dummy data"
      ],
      "metadata": {
        "id": "rR32l9LYZYq4"
      }
    },
    {
      "cell_type": "code",
      "source": [
        "#fitting the model\n",
        "model.fit(syn_data,syn_label_one_hot,batch_size=16,epochs=10)"
      ],
      "metadata": {
        "colab": {
          "base_uri": "https://localhost:8080/"
        },
        "id": "SDqiekjWZovi",
        "outputId": "205af94f-8ad3-4107-85ee-ec39471007c6"
      },
      "execution_count": null,
      "outputs": [
        {
          "output_type": "stream",
          "name": "stdout",
          "text": [
            "Epoch 1/10\n",
            "25/25 [==============================] - 4s 81ms/step - loss: 3.2264 - accuracy: 0.2050\n",
            "Epoch 2/10\n",
            "25/25 [==============================] - 3s 102ms/step - loss: 2.3064 - accuracy: 0.2375\n",
            "Epoch 3/10\n",
            "25/25 [==============================] - 3s 134ms/step - loss: 2.0849 - accuracy: 0.2900\n",
            "Epoch 4/10\n",
            "25/25 [==============================] - 2s 82ms/step - loss: 1.7370 - accuracy: 0.3475\n",
            "Epoch 5/10\n",
            "25/25 [==============================] - 2s 81ms/step - loss: 1.5515 - accuracy: 0.4050\n",
            "Epoch 6/10\n",
            "25/25 [==============================] - 2s 80ms/step - loss: 1.3738 - accuracy: 0.4800\n",
            "Epoch 7/10\n",
            "25/25 [==============================] - 2s 80ms/step - loss: 1.1825 - accuracy: 0.5675\n",
            "Epoch 8/10\n",
            "25/25 [==============================] - 2s 81ms/step - loss: 1.0386 - accuracy: 0.5975\n",
            "Epoch 9/10\n",
            "25/25 [==============================] - 3s 135ms/step - loss: 0.9455 - accuracy: 0.6500\n",
            "Epoch 10/10\n",
            "25/25 [==============================] - 3s 107ms/step - loss: 0.8368 - accuracy: 0.6725\n"
          ]
        },
        {
          "output_type": "execute_result",
          "data": {
            "text/plain": [
              "<keras.src.callbacks.History at 0x7ddd4b0572b0>"
            ]
          },
          "metadata": {},
          "execution_count": 5
        }
      ]
    },
    {
      "cell_type": "markdown",
      "source": [
        "# Evaluation of Model\n"
      ],
      "metadata": {
        "id": "eGo9wkePYmzD"
      }
    },
    {
      "cell_type": "code",
      "source": [
        "loss,accuracy=model.evaluate(syn_data,syn_label_one_hot)\n",
        "print(\"\\nloss:{:f}\".format(loss),\"\\naccuracy:{:.10f}%\".format(accuracy*100))"
      ],
      "metadata": {
        "colab": {
          "base_uri": "https://localhost:8080/"
        },
        "id": "dEuDZBoNZEzQ",
        "outputId": "1a9cc654-1c80-4c51-9c00-5ae6c3a02e48"
      },
      "execution_count": null,
      "outputs": [
        {
          "output_type": "stream",
          "name": "stdout",
          "text": [
            "13/13 [==============================] - 1s 44ms/step - loss: 1.6093 - accuracy: 0.2050\n",
            "\n",
            "loss:1.609343 \n",
            "accuracy:20.4999998212%\n"
          ]
        }
      ]
    }
  ]
}